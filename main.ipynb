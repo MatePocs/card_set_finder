{
 "cells": [
  {
   "cell_type": "markdown",
   "metadata": {},
   "source": [
    "# Intro"
   ]
  },
  {
   "cell_type": "markdown",
   "metadata": {},
   "source": [
    "Purpose: to create a game environment: deck of cards, player draws cards, needs to discard if has more than hand size limit. \n",
    "\n",
    "Thenumber of cards in the deck of each set, along with the goal, and the hand size, are parameters\n",
    "\n",
    "we will give rewards for getting a set, and a large negative at the end (running out of cards) for not having all"
   ]
  },
  {
   "cell_type": "markdown",
   "metadata": {},
   "source": [
    "# Environment"
   ]
  },
  {
   "cell_type": "code",
   "execution_count": 1,
   "metadata": {},
   "outputs": [],
   "source": [
    "import numpy as np\n",
    "import gym\n",
    "import random"
   ]
  },
  {
   "cell_type": "code",
   "execution_count": 35,
   "metadata": {},
   "outputs": [],
   "source": [
    "class CardSetFinder(gym.Env):\n",
    "    metadata = {'render.modes': ['human']}\n",
    "\n",
    "    def __init__(\n",
    "        self, \n",
    "        cardset_tot = [10,10],\n",
    "        cardset_goal = [3,3],\n",
    "        hand_limit = 3):\n",
    "        \n",
    "        self.reward_for_set = 3\n",
    "        self.reward_for_invalid_action = -5\n",
    "        self.reward_for_win = 10\n",
    "        self.reward_for_lose = -10\n",
    "        \n",
    "        self.cardset_tot = cardset_tot\n",
    "        self.cardset_goal = cardset_goal\n",
    "        self.hand_limit = hand_limit\n",
    "        self.sets_num = len(self.cardset_tot)\n",
    "        \n",
    "        # actions: to discard one of the cards\n",
    "        # we will code it as a discrete 0 to sets_num\n",
    "        # so an action is to discard a type of card, not a specific card\n",
    "        # NB there will be invalid actions, not all the card types will be in hand all the time\n",
    "        self.action_space = gym.spaces.Discrete(self.sets_num)\n",
    "        \n",
    "        # states are going to be coded in a matrix with sets_num number of rows and  columns\n",
    "        # each row corresponds to a type of card\n",
    "        # col 0: number of cards in the deck, min: 0, max: cardset_tot\n",
    "        # col 1: ... in hand, min: 0, max: hand limit\n",
    "        # col 2: 1 if we already have the set for that type (in which case the cards are useless), 0 if not\n",
    "        self.observation_space = gym.spaces.Box(\n",
    "            low = np.tile(np.array([0,0,0]),(self.sets_num,1)), \n",
    "            high = np.tile(np.array([max(self.cardset_tot),self.hand_limit,1]),(self.sets_num,1)), \n",
    "            dtype = int)\n",
    "        \n",
    "        # note: this is slightly inefficient, we could limit each row's 1st col by the corresponding card's number\n",
    "        # not goin to bother now\n",
    "        \n",
    "        self.state = np.zeros((self.sets_num, 3), dtype = int)\n",
    "        \n",
    "        # deck: a list of randomly arranged integers, from 0 to \n",
    "        self.deck = []\n",
    "        \n",
    "        # hand: a list of sets_num, each element is an integer with the number of cards hold \n",
    "        self.hand = np.zeros(self.sets_num, dtype = int)\n",
    "    \n",
    "    def create_deck(self):\n",
    "        # creates a list of 0, 1, 2, ... etc in random order\n",
    "        \n",
    "        for i in range(0, self.sets_num):\n",
    "            self.deck += [i] * self.cardset_tot[i]\n",
    "            \n",
    "        random.shuffle(self.deck)\n",
    "        \n",
    "    def draw_cards(self):\n",
    "        # draws cards until hand limit is met\n",
    "        curr_handsize = sum(self.hand)\n",
    "        if curr_handsize < self.hand_limit:\n",
    "            for i in range(curr_handsize,self.hand_limit):\n",
    "                self.draw_card()\n",
    "        \n",
    "    def draw_card(self):\n",
    "        # draws the top card from the dack to hand\n",
    "        current_card = self.deck[-1]\n",
    "        self.hand[current_card] += 1\n",
    "        self.deck.pop()\n",
    "\n",
    "    def step(self, action):\n",
    "        \n",
    "        reward = 0\n",
    "        done = False\n",
    "        info = {}\n",
    "\n",
    "        # incoming action is a number between 0 and sets_num\n",
    "        if self.hand[action] == 0:\n",
    "            # does not change anything, just returns invalid action penalty\n",
    "            reward = self.reward_for_invalid_action\n",
    "        else:\n",
    "            # deletes a card from hand\n",
    "            discard_card(action)\n",
    "            # draws a new card\n",
    "            self.draw_cards()\n",
    "            # checks for set (at this point, there can only be one new found)\n",
    "            found_sets = self.check_hand_for_sets\n",
    "            reward = found_sets * self.reward_for_win\n",
    "            self.draw_cards()\n",
    "            \n",
    "            # at this point, also needs to check if the game is done\n",
    "            done = self.check_if_done()\n",
    "            \n",
    "            \n",
    "\n",
    "\n",
    "        return self.state, reward, done, info\n",
    "\n",
    "    def reset(self):\n",
    "        \n",
    "        self.create_deck()\n",
    "        self.draw_cards()\n",
    "        \n",
    "        # need to check for sets right at the beginning\n",
    "        found_sets = self.check_hand_for_sets()\n",
    "        \n",
    "        # actually, won't give reward for random good start\n",
    "        \n",
    "        # and after that, potentially, draw cards\n",
    "        self.draw_cards()\n",
    "        \n",
    "        self.calc_state()\n",
    "        \n",
    "        return self.state\n",
    "    \n",
    "    def check_hand_for_sets(self):\n",
    "        # in the hand set, checks each card type\n",
    "        # sees if we have any that is equal to the limit\n",
    "        \n",
    "        found_sets = 0\n",
    "        \n",
    "        for i in range(0, self.sets_num):\n",
    "            if self.check_hand_for_set(i):\n",
    "                found_sets +=1\n",
    "                \n",
    "        return found_sets\n",
    "                \n",
    "    def check_hand_for_set(self, set_num):\n",
    "        set_found = False\n",
    "        count_in_hand = sum(1 for set_num in self.hand)\n",
    "        if count_in_hand >= cardset_goal[set_num]:\n",
    "            # delete those cards from hand\n",
    "            for i in range(0, cardset_goal[set_num]):\n",
    "                self.hand.remove(set_num)\n",
    "            # set the last element of state as DONE (to 1 from 0)\n",
    "            state[set_num,2]=1\n",
    "            set_found = True\n",
    "            \n",
    "        return set_found\n",
    "            \n",
    "    def calc_state(self):\n",
    "        # calculates the state variable based on deck list and hand set\n",
    "        # only changes first two columns\n",
    "        # the third one, whether we have already found the set, is handled in the check_hand_for_set\n",
    "        for i in range(0, self.sets_num):\n",
    "            self.state[i,0] = self.deck.count(i)\n",
    "            self.state[i,1] = self.hand[i]\n",
    "            \n",
    "    def discard_card(self, set_to_discard):\n",
    "        self.hand[set_to_discard] -= 1\n",
    "    \n",
    "    \n",
    "    "
   ]
  },
  {
   "cell_type": "code",
   "execution_count": 36,
   "metadata": {},
   "outputs": [],
   "source": [
    "env = CardSetFinder()"
   ]
  },
  {
   "cell_type": "code",
   "execution_count": 37,
   "metadata": {},
   "outputs": [
    {
     "data": {
      "text/plain": [
       "array([[9, 1, 0],\n",
       "       [8, 2, 0]])"
      ]
     },
     "execution_count": 37,
     "metadata": {},
     "output_type": "execute_result"
    }
   ],
   "source": [
    "env.reset()"
   ]
  },
  {
   "cell_type": "code",
   "execution_count": null,
   "metadata": {},
   "outputs": [],
   "source": []
  },
  {
   "cell_type": "code",
   "execution_count": null,
   "metadata": {},
   "outputs": [],
   "source": []
  },
  {
   "cell_type": "code",
   "execution_count": null,
   "metadata": {},
   "outputs": [],
   "source": []
  },
  {
   "cell_type": "code",
   "execution_count": null,
   "metadata": {},
   "outputs": [],
   "source": []
  },
  {
   "cell_type": "markdown",
   "metadata": {},
   "source": [
    "# Testing"
   ]
  },
  {
   "cell_type": "code",
   "execution_count": 66,
   "metadata": {},
   "outputs": [],
   "source": [
    "# check if state is in the observation space"
   ]
  },
  {
   "cell_type": "code",
   "execution_count": 126,
   "metadata": {},
   "outputs": [],
   "source": [
    "env = CardSetFinder()"
   ]
  },
  {
   "cell_type": "code",
   "execution_count": 127,
   "metadata": {},
   "outputs": [
    {
     "data": {
      "text/plain": [
       "Box(0, 10, (2, 3), int64)"
      ]
     },
     "execution_count": 127,
     "metadata": {},
     "output_type": "execute_result"
    }
   ],
   "source": [
    "env.observation_space"
   ]
  },
  {
   "cell_type": "code",
   "execution_count": 131,
   "metadata": {},
   "outputs": [],
   "source": [
    "test = np.array([[3,2,1],[1,2,0]])\n",
    "test2 = np.array([[3,2,2],[1,2,0]])"
   ]
  },
  {
   "cell_type": "code",
   "execution_count": 130,
   "metadata": {},
   "outputs": [
    {
     "data": {
      "text/plain": [
       "True"
      ]
     },
     "execution_count": 130,
     "metadata": {},
     "output_type": "execute_result"
    }
   ],
   "source": [
    "env.observation_space.contains(test)"
   ]
  },
  {
   "cell_type": "code",
   "execution_count": 132,
   "metadata": {},
   "outputs": [
    {
     "data": {
      "text/plain": [
       "False"
      ]
     },
     "execution_count": 132,
     "metadata": {},
     "output_type": "execute_result"
    }
   ],
   "source": [
    "env.observation_space.contains(test2)"
   ]
  },
  {
   "cell_type": "code",
   "execution_count": 133,
   "metadata": {},
   "outputs": [
    {
     "data": {
      "text/plain": [
       "True"
      ]
     },
     "execution_count": 133,
     "metadata": {},
     "output_type": "execute_result"
    }
   ],
   "source": [
    "env.observation_space.contains(env.state)"
   ]
  },
  {
   "cell_type": "code",
   "execution_count": null,
   "metadata": {},
   "outputs": [],
   "source": []
  },
  {
   "cell_type": "code",
   "execution_count": null,
   "metadata": {},
   "outputs": [],
   "source": []
  }
 ],
 "metadata": {
  "kernelspec": {
   "display_name": "Python 3",
   "language": "python",
   "name": "python3"
  },
  "language_info": {
   "codemirror_mode": {
    "name": "ipython",
    "version": 3
   },
   "file_extension": ".py",
   "mimetype": "text/x-python",
   "name": "python",
   "nbconvert_exporter": "python",
   "pygments_lexer": "ipython3",
   "version": "3.7.4"
  },
  "toc": {
   "base_numbering": 1,
   "nav_menu": {},
   "number_sections": true,
   "sideBar": true,
   "skip_h1_title": false,
   "title_cell": "Table of Contents",
   "title_sidebar": "Contents",
   "toc_cell": false,
   "toc_position": {},
   "toc_section_display": true,
   "toc_window_display": false
  },
  "varInspector": {
   "cols": {
    "lenName": 16,
    "lenType": 16,
    "lenVar": 40
   },
   "kernels_config": {
    "python": {
     "delete_cmd_postfix": "",
     "delete_cmd_prefix": "del ",
     "library": "var_list.py",
     "varRefreshCmd": "print(var_dic_list())"
    },
    "r": {
     "delete_cmd_postfix": ") ",
     "delete_cmd_prefix": "rm(",
     "library": "var_list.r",
     "varRefreshCmd": "cat(var_dic_list()) "
    }
   },
   "types_to_exclude": [
    "module",
    "function",
    "builtin_function_or_method",
    "instance",
    "_Feature"
   ],
   "window_display": false
  }
 },
 "nbformat": 4,
 "nbformat_minor": 2
}
