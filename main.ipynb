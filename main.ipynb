{
 "cells": [
  {
   "cell_type": "markdown",
   "metadata": {},
   "source": [
    "# Intro"
   ]
  },
  {
   "cell_type": "markdown",
   "metadata": {},
   "source": [
    "Purpose: to create a game environment: deck of cards, player draws cards, needs to discard if has more than hand size limit. \n",
    "\n",
    "Thenumber of cards in the deck of each set, along with the goal, and the hand size, are parameters\n",
    "\n",
    "we will give rewards for getting a set, and a large negative at the end (running out of cards) for not having all"
   ]
  },
  {
   "cell_type": "markdown",
   "metadata": {},
   "source": [
    "# Environment"
   ]
  },
  {
   "cell_type": "code",
   "execution_count": 3,
   "metadata": {},
   "outputs": [],
   "source": [
    "import numpy as np\n",
    "import gym\n",
    "import random"
   ]
  },
  {
   "cell_type": "code",
   "execution_count": 4,
   "metadata": {},
   "outputs": [],
   "source": [
    "class CardSetFinder(gym.Env):\n",
    "    metadata = {'render.modes': ['human']}\n",
    "\n",
    "    def __init__(\n",
    "        self, \n",
    "        cardset_tot = [10,10],\n",
    "        cardset_goal = [3,3],\n",
    "        hand_limit = 3):\n",
    "        \n",
    "        self.reward_for_set = 3\n",
    "        self.reward_for_invalid_action = -5\n",
    "        self.reward_for_win = 10\n",
    "        self.reward_for_lose = -10\n",
    "        \n",
    "        self.cardset_tot = cardset_tot\n",
    "        self.cardset_goal = cardset_goal\n",
    "        self.hand_limit = hand_limit\n",
    "        self.sets_num = len(self.cardset_tot)\n",
    "        \n",
    "        self.won = False\n",
    "        self.lost = False\n",
    "        \n",
    "        # actions: to discard one of the cards\n",
    "        # we will code it as a discrete 0 to sets_num\n",
    "        # so an action is to discard a type of card, not a specific card\n",
    "        # NB there will be invalid actions, not all the card types will be in hand all the time\n",
    "        self.action_space = gym.spaces.Discrete(self.sets_num)\n",
    "        \n",
    "        # states are going to be coded in a matrix with sets_num number of rows and  columns\n",
    "        # each row corresponds to a type of card\n",
    "        # col 0: number of cards in the deck, min: 0, max: cardset_tot\n",
    "        # col 1: ... in hand, min: 0, max: hand limit\n",
    "        # col 2: 1 if we already have the set for that type (in which case the cards are useless), 0 if not\n",
    "        self.observation_space = gym.spaces.Box(\n",
    "            low = np.tile(np.array([0,0,0]),(self.sets_num,1)), \n",
    "            high = np.tile(np.array([max(self.cardset_tot),self.hand_limit,1]),(self.sets_num,1)), \n",
    "            dtype = int)\n",
    "        \n",
    "        # note: this is slightly inefficient, we could limit each row's 1st col by the corresponding card's number\n",
    "        # not goin to bother now\n",
    "    \n",
    "    def create_deck(self):\n",
    "        # creates a list of 0, 1, 2, ... etc in random order\n",
    "        \n",
    "        for i in range(0, self.sets_num):\n",
    "            self.deck += [i] * self.cardset_tot[i]\n",
    "            \n",
    "        random.shuffle(self.deck)\n",
    "        \n",
    "    def draw_cards(self):\n",
    "        # draws cards until hand limit is met, or until we run out of cards\n",
    "        curr_handsize = sum(self.hand)\n",
    "        if curr_handsize < self.hand_limit:\n",
    "            for i in range(curr_handsize, min(self.hand_limit,len(self.deck))):\n",
    "                self.draw_card()\n",
    "        \n",
    "    def draw_card(self):\n",
    "        # draws the top card from the dack to hand\n",
    "        current_card = self.deck[-1]\n",
    "        self.hand[current_card] += 1\n",
    "        self.deck.pop()\n",
    "\n",
    "    def step(self, action):\n",
    "        \n",
    "        reward = 0\n",
    "        done = False\n",
    "        info = {}\n",
    "\n",
    "        # incoming action is a number between 0 and sets_num\n",
    "        if self.hand[action] == 0:\n",
    "            # does not change anything, just returns invalid action penalty\n",
    "            reward = self.reward_for_invalid_action\n",
    "        else:\n",
    "            # deletes a card from hand\n",
    "            self.discard_card(action)\n",
    "            # draws a new card\n",
    "            self.draw_cards()\n",
    "            # checks for set (at this point, there can only be one new found, no need to loop)\n",
    "            found_sets = self.check_hand_for_sets()\n",
    "            reward = found_sets * self.reward_for_set\n",
    "            self.draw_cards()\n",
    "            \n",
    "            self.calc_state()\n",
    "            \n",
    "            # at this point, also needs to check if the game is done\n",
    "            self.check_if_won()\n",
    "            if self.won:\n",
    "                reward += self.reward_for_win\n",
    "            self.check_if_lost()\n",
    "            if self.lost:\n",
    "                reward += self.reward_for_lose\n",
    "\n",
    "            done = self.won | self.lost\n",
    "            \n",
    "            \n",
    "        return self.state, reward, done, info\n",
    "\n",
    "    def reset(self):\n",
    "        \n",
    "        # set parameters to starting position\n",
    "        \n",
    "        # state: in the format of observation_space, 3 columns, sets_num rows\n",
    "        self.state = np.zeros((self.sets_num, 3), dtype = int)\n",
    "        # deck: a list of randomly arranged integers, from 0 to \n",
    "        self.deck = []\n",
    "        self.create_deck()\n",
    "        # hand: a list of sets_num, each element is an integer with the number of cards hold \n",
    "        self.hand = np.zeros(self.sets_num, dtype = int)\n",
    "        \n",
    "        found_sets = 1\n",
    "        while found_sets > 0:\n",
    "            self.draw_cards()\n",
    "            found_sets = self.check_hand_for_sets()\n",
    "            # here, we are not giving rewards, this is the first draw of the game, and sets are automatic\n",
    "        \n",
    "        self.calc_state()\n",
    "        \n",
    "        return self.state\n",
    "    \n",
    "    def check_hand_for_sets(self):\n",
    "        # in the hand set, checks each card type\n",
    "        # sees if we have any that is equal to the limit\n",
    "        # only those sets that are not found yet\n",
    "        \n",
    "        found_sets = 0\n",
    "        \n",
    "        for i in range(0, self.sets_num):\n",
    "            if self.state[i,2]==0:\n",
    "                if self.check_hand_for_set(i):\n",
    "                    found_sets +=1\n",
    "                    \n",
    "        return found_sets\n",
    "                \n",
    "    def check_hand_for_set(self, set_num):\n",
    "        set_found = False\n",
    "        if self.hand[set_num] >= self.cardset_goal[set_num]:\n",
    "            # discard those cards from hand\n",
    "            self.hand[set_num] -= self.cardset_goal[set_num]\n",
    "            # set the last element of state as DONE (to 1 from 0)\n",
    "            self.state[set_num,2]=1\n",
    "            set_found = True\n",
    "            \n",
    "        return set_found\n",
    "            \n",
    "    def calc_state(self):\n",
    "        # calculates the state variable based on deck list and hand set\n",
    "        # only changes first two columns\n",
    "        # the third one, whether we have already found the set, is handled in the check_hand_for_set\n",
    "        for i in range(0, self.sets_num):\n",
    "            self.state[i,0] = self.deck.count(i)\n",
    "            self.state[i,1] = self.hand[i]\n",
    "            \n",
    "    def discard_card(self, set_to_discard):\n",
    "        self.hand[set_to_discard] -= 1\n",
    "    \n",
    "    def check_if_won(self):\n",
    "        # the game is won if all the sets are found\n",
    "        self.won = min(self.state[:,2]) == 1\n",
    "    \n",
    "    def check_if_lost(self):\n",
    "        # the game is lost if not all the sets are found, but we have nothing in the deck\n",
    "        if self.won == False:\n",
    "            self.lose = len(self.deck)>0\n",
    "    \n",
    "    "
   ]
  },
  {
   "cell_type": "code",
   "execution_count": 136,
   "metadata": {},
   "outputs": [],
   "source": [
    "env = CardSetFinder()"
   ]
  },
  {
   "cell_type": "code",
   "execution_count": 137,
   "metadata": {},
   "outputs": [
    {
     "name": "stdout",
     "output_type": "stream",
     "text": [
      "Checking set_num 0\n",
      "Checking set_num 1\n"
     ]
    },
    {
     "data": {
      "text/plain": [
       "array([[8, 2, 0],\n",
       "       [9, 1, 0]])"
      ]
     },
     "execution_count": 137,
     "metadata": {},
     "output_type": "execute_result"
    }
   ],
   "source": [
    "env.reset()"
   ]
  },
  {
   "cell_type": "code",
   "execution_count": 138,
   "metadata": {},
   "outputs": [
    {
     "name": "stdout",
     "output_type": "stream",
     "text": [
      "Checking set_num 0\n",
      "Checking set_num 1\n"
     ]
    },
    {
     "data": {
      "text/plain": [
       "(array([[8, 2, 0],\n",
       "        [8, 1, 0]]), 0, False, {})"
      ]
     },
     "execution_count": 138,
     "metadata": {},
     "output_type": "execute_result"
    }
   ],
   "source": [
    "env.step(1)"
   ]
  },
  {
   "cell_type": "code",
   "execution_count": null,
   "metadata": {},
   "outputs": [],
   "source": []
  },
  {
   "cell_type": "code",
   "execution_count": null,
   "metadata": {},
   "outputs": [],
   "source": []
  },
  {
   "cell_type": "markdown",
   "metadata": {},
   "source": [
    "# Model Train"
   ]
  },
  {
   "cell_type": "code",
   "execution_count": 6,
   "metadata": {},
   "outputs": [],
   "source": [
    "env = CardSetFinder()"
   ]
  },
  {
   "cell_type": "code",
   "execution_count": 1,
   "metadata": {},
   "outputs": [
    {
     "name": "stdout",
     "output_type": "stream",
     "text": [
      "WARNING:tensorflow:\n",
      "The TensorFlow contrib module will not be included in TensorFlow 2.0.\n",
      "For more information, please see:\n",
      "  * https://github.com/tensorflow/community/blob/master/rfcs/20180907-contrib-sunset.md\n",
      "  * https://github.com/tensorflow/addons\n",
      "  * https://github.com/tensorflow/io (for I/O related ops)\n",
      "If you depend on functionality not listed there, please file an issue.\n",
      "\n"
     ]
    }
   ],
   "source": [
    "from stable_baselines.common.env_checker import check_env"
   ]
  },
  {
   "cell_type": "code",
   "execution_count": 7,
   "metadata": {},
   "outputs": [
    {
     "name": "stdout",
     "output_type": "stream",
     "text": [
      "Checking set_num 0\n",
      "Checking set_num 1\n",
      "Checking set_num 0\n",
      "Checking set_num 1\n"
     ]
    },
    {
     "name": "stderr",
     "output_type": "stream",
     "text": [
      "/Users/flatiron/opt/anaconda3/lib/python3.7/site-packages/stable_baselines/common/env_checker.py:202: UserWarning: Your observation has an unconventional shape (neither an image, nor a 1D vector). We recommend you to flatten the observation to have only a 1D vector\n",
      "  warnings.warn(\"Your observation has an unconventional shape (neither an image, nor a 1D vector). \"\n"
     ]
    },
    {
     "ename": "AssertionError",
     "evalue": "The `done` signal must be a boolean",
     "output_type": "error",
     "traceback": [
      "\u001b[0;31m---------------------------------------------------------------------------\u001b[0m",
      "\u001b[0;31mAssertionError\u001b[0m                            Traceback (most recent call last)",
      "\u001b[0;32m<ipython-input-7-0f6792f977ee>\u001b[0m in \u001b[0;36m<module>\u001b[0;34m\u001b[0m\n\u001b[0;32m----> 1\u001b[0;31m \u001b[0mcheck_env\u001b[0m\u001b[0;34m(\u001b[0m\u001b[0menv\u001b[0m\u001b[0;34m)\u001b[0m\u001b[0;34m\u001b[0m\u001b[0;34m\u001b[0m\u001b[0m\n\u001b[0m",
      "\u001b[0;32m~/opt/anaconda3/lib/python3.7/site-packages/stable_baselines/common/env_checker.py\u001b[0m in \u001b[0;36mcheck_env\u001b[0;34m(env, warn, skip_render_check)\u001b[0m\n\u001b[1;32m    212\u001b[0m \u001b[0;34m\u001b[0m\u001b[0m\n\u001b[1;32m    213\u001b[0m     \u001b[0;31m# ============ Check the returned values ===============\u001b[0m\u001b[0;34m\u001b[0m\u001b[0;34m\u001b[0m\u001b[0;34m\u001b[0m\u001b[0m\n\u001b[0;32m--> 214\u001b[0;31m     \u001b[0m_check_returned_values\u001b[0m\u001b[0;34m(\u001b[0m\u001b[0menv\u001b[0m\u001b[0;34m,\u001b[0m \u001b[0mobservation_space\u001b[0m\u001b[0;34m,\u001b[0m \u001b[0maction_space\u001b[0m\u001b[0;34m)\u001b[0m\u001b[0;34m\u001b[0m\u001b[0;34m\u001b[0m\u001b[0m\n\u001b[0m\u001b[1;32m    215\u001b[0m \u001b[0;34m\u001b[0m\u001b[0m\n\u001b[1;32m    216\u001b[0m     \u001b[0;31m# ==== Check the render method and the declared render modes ====\u001b[0m\u001b[0;34m\u001b[0m\u001b[0;34m\u001b[0m\u001b[0;34m\u001b[0m\u001b[0m\n",
      "\u001b[0;32m~/opt/anaconda3/lib/python3.7/site-packages/stable_baselines/common/env_checker.py\u001b[0m in \u001b[0;36m_check_returned_values\u001b[0;34m(env, observation_space, action_space)\u001b[0m\n\u001b[1;32m    112\u001b[0m     \u001b[0;31m# We also allow int because the reward will be cast to float\u001b[0m\u001b[0;34m\u001b[0m\u001b[0;34m\u001b[0m\u001b[0;34m\u001b[0m\u001b[0m\n\u001b[1;32m    113\u001b[0m     \u001b[0;32massert\u001b[0m \u001b[0misinstance\u001b[0m\u001b[0;34m(\u001b[0m\u001b[0mreward\u001b[0m\u001b[0;34m,\u001b[0m \u001b[0;34m(\u001b[0m\u001b[0mfloat\u001b[0m\u001b[0;34m,\u001b[0m \u001b[0mint\u001b[0m\u001b[0;34m)\u001b[0m\u001b[0;34m)\u001b[0m\u001b[0;34m,\u001b[0m \u001b[0;34m\"The reward returned by `step()` must be a float\"\u001b[0m\u001b[0;34m\u001b[0m\u001b[0;34m\u001b[0m\u001b[0m\n\u001b[0;32m--> 114\u001b[0;31m     \u001b[0;32massert\u001b[0m \u001b[0misinstance\u001b[0m\u001b[0;34m(\u001b[0m\u001b[0mdone\u001b[0m\u001b[0;34m,\u001b[0m \u001b[0mbool\u001b[0m\u001b[0;34m)\u001b[0m\u001b[0;34m,\u001b[0m \u001b[0;34m\"The `done` signal must be a boolean\"\u001b[0m\u001b[0;34m\u001b[0m\u001b[0;34m\u001b[0m\u001b[0m\n\u001b[0m\u001b[1;32m    115\u001b[0m     \u001b[0;32massert\u001b[0m \u001b[0misinstance\u001b[0m\u001b[0;34m(\u001b[0m\u001b[0minfo\u001b[0m\u001b[0;34m,\u001b[0m \u001b[0mdict\u001b[0m\u001b[0;34m)\u001b[0m\u001b[0;34m,\u001b[0m \u001b[0;34m\"The `info` returned by `step()` must be a python dictionary\"\u001b[0m\u001b[0;34m\u001b[0m\u001b[0;34m\u001b[0m\u001b[0m\n\u001b[1;32m    116\u001b[0m \u001b[0;34m\u001b[0m\u001b[0m\n",
      "\u001b[0;31mAssertionError\u001b[0m: The `done` signal must be a boolean"
     ]
    }
   ],
   "source": [
    "check_env(env)"
   ]
  },
  {
   "cell_type": "code",
   "execution_count": 10,
   "metadata": {},
   "outputs": [],
   "source": [
    "from stable_baselines import PPO2\n",
    "from stable_baselines.common.policies import MlpPolicy\n",
    "from stable_baselines.common.vec_env import DummyVecEnv"
   ]
  },
  {
   "cell_type": "code",
   "execution_count": 11,
   "metadata": {},
   "outputs": [
    {
     "name": "stdout",
     "output_type": "stream",
     "text": [
      "WARNING:tensorflow:From /Users/flatiron/opt/anaconda3/lib/python3.7/site-packages/stable_baselines/common/tf_util.py:191: The name tf.ConfigProto is deprecated. Please use tf.compat.v1.ConfigProto instead.\n",
      "\n",
      "WARNING:tensorflow:From /Users/flatiron/opt/anaconda3/lib/python3.7/site-packages/stable_baselines/common/tf_util.py:200: The name tf.Session is deprecated. Please use tf.compat.v1.Session instead.\n",
      "\n",
      "WARNING:tensorflow:From /Users/flatiron/opt/anaconda3/lib/python3.7/site-packages/stable_baselines/common/policies.py:116: The name tf.variable_scope is deprecated. Please use tf.compat.v1.variable_scope instead.\n",
      "\n",
      "WARNING:tensorflow:From /Users/flatiron/opt/anaconda3/lib/python3.7/site-packages/stable_baselines/common/input.py:25: The name tf.placeholder is deprecated. Please use tf.compat.v1.placeholder instead.\n",
      "\n",
      "WARNING:tensorflow:From /Users/flatiron/opt/anaconda3/lib/python3.7/site-packages/stable_baselines/common/policies.py:561: flatten (from tensorflow.python.layers.core) is deprecated and will be removed in a future version.\n",
      "Instructions for updating:\n",
      "Use keras.layers.flatten instead.\n",
      "WARNING:tensorflow:From /Users/flatiron/opt/anaconda3/lib/python3.7/site-packages/tensorflow_core/python/layers/core.py:332: Layer.apply (from tensorflow.python.keras.engine.base_layer) is deprecated and will be removed in a future version.\n",
      "Instructions for updating:\n",
      "Please use `layer.__call__` method instead.\n",
      "WARNING:tensorflow:From /Users/flatiron/opt/anaconda3/lib/python3.7/site-packages/stable_baselines/common/tf_layers.py:123: The name tf.get_variable is deprecated. Please use tf.compat.v1.get_variable instead.\n",
      "\n",
      "WARNING:tensorflow:From /Users/flatiron/opt/anaconda3/lib/python3.7/site-packages/stable_baselines/common/distributions.py:326: The name tf.random_uniform is deprecated. Please use tf.random.uniform instead.\n",
      "\n",
      "WARNING:tensorflow:From /Users/flatiron/opt/anaconda3/lib/python3.7/site-packages/stable_baselines/common/distributions.py:327: The name tf.log is deprecated. Please use tf.math.log instead.\n",
      "\n",
      "WARNING:tensorflow:From /Users/flatiron/opt/anaconda3/lib/python3.7/site-packages/stable_baselines/ppo2/ppo2.py:190: The name tf.summary.scalar is deprecated. Please use tf.compat.v1.summary.scalar instead.\n",
      "\n",
      "WARNING:tensorflow:From /Users/flatiron/opt/anaconda3/lib/python3.7/site-packages/stable_baselines/ppo2/ppo2.py:198: The name tf.trainable_variables is deprecated. Please use tf.compat.v1.trainable_variables instead.\n",
      "\n",
      "WARNING:tensorflow:From /Users/flatiron/opt/anaconda3/lib/python3.7/site-packages/tensorflow_core/python/ops/math_grad.py:1424: where (from tensorflow.python.ops.array_ops) is deprecated and will be removed in a future version.\n",
      "Instructions for updating:\n",
      "Use tf.where in 2.0, which has the same broadcast rule as np.where\n",
      "WARNING:tensorflow:From /Users/flatiron/opt/anaconda3/lib/python3.7/site-packages/stable_baselines/ppo2/ppo2.py:206: The name tf.train.AdamOptimizer is deprecated. Please use tf.compat.v1.train.AdamOptimizer instead.\n",
      "\n",
      "WARNING:tensorflow:From /Users/flatiron/opt/anaconda3/lib/python3.7/site-packages/stable_baselines/ppo2/ppo2.py:240: The name tf.global_variables_initializer is deprecated. Please use tf.compat.v1.global_variables_initializer instead.\n",
      "\n",
      "WARNING:tensorflow:From /Users/flatiron/opt/anaconda3/lib/python3.7/site-packages/stable_baselines/ppo2/ppo2.py:242: The name tf.summary.merge_all is deprecated. Please use tf.compat.v1.summary.merge_all instead.\n",
      "\n",
      "Checking set_num 0\n",
      "Checking set_num 1\n",
      "Checking set_num 0\n",
      "Checking set_num 1\n",
      "Checking set_num 0\n",
      "Checking set_num 1\n",
      "Set found\n",
      "Checking set_num 0\n",
      "Checking set_num 0\n",
      "Checking set_num 0\n",
      "Checking set_num 0\n",
      "Checking set_num 0\n",
      "Set found\n",
      "Checking set_num 0\n",
      "Checking set_num 1\n",
      "Checking set_num 0\n",
      "Checking set_num 1\n",
      "Set found\n",
      "Checking set_num 0\n",
      "Checking set_num 0\n",
      "Checking set_num 0\n",
      "Checking set_num 0\n",
      "Checking set_num 0\n",
      "Checking set_num 0\n",
      "Checking set_num 0\n",
      "Checking set_num 0\n",
      "Set found\n",
      "Checking set_num 0\n",
      "Checking set_num 1\n",
      "Checking set_num 0\n",
      "Checking set_num 1\n",
      "Checking set_num 0\n",
      "Checking set_num 1\n",
      "Checking set_num 0\n",
      "Checking set_num 1\n",
      "Checking set_num 0\n",
      "Checking set_num 1\n",
      "Checking set_num 0\n",
      "Checking set_num 1\n",
      "Checking set_num 0\n",
      "Checking set_num 1\n",
      "Checking set_num 0\n",
      "Checking set_num 1\n",
      "Checking set_num 0\n",
      "Checking set_num 1\n",
      "Checking set_num 0\n",
      "Checking set_num 1\n",
      "Checking set_num 0\n",
      "Checking set_num 1\n",
      "Set found\n",
      "Checking set_num 0\n",
      "Checking set_num 0\n",
      "Checking set_num 0\n",
      "Checking set_num 0\n",
      "Checking set_num 0\n",
      "Checking set_num 0\n",
      "Checking set_num 0\n"
     ]
    },
    {
     "data": {
      "text/plain": [
       "<stable_baselines.ppo2.ppo2.PPO2 at 0x7f879d332350>"
      ]
     },
     "execution_count": 11,
     "metadata": {},
     "output_type": "execute_result"
    }
   ],
   "source": [
    "model = PPO2(MlpPolicy, env, verbose=False)\n",
    "model.learn(total_timesteps=10000)"
   ]
  },
  {
   "cell_type": "code",
   "execution_count": 12,
   "metadata": {},
   "outputs": [
    {
     "name": "stdout",
     "output_type": "stream",
     "text": [
      "Checking set_num 0\n",
      "Checking set_num 1\n",
      "0\n",
      "Checking set_num 0\n",
      "Checking set_num 1\n",
      "0\n",
      "Checking set_num 0\n",
      "Checking set_num 1\n",
      "0\n",
      "Checking set_num 0\n",
      "Checking set_num 1\n",
      "Set found\n",
      "1\n",
      "Checking set_num 0\n",
      "Set found\n",
      "1\n",
      "0\n",
      "0\n",
      "0\n",
      "1\n",
      "0\n"
     ]
    }
   ],
   "source": [
    "obs = env.reset()\n",
    "for i in range(10):\n",
    "    action, _states = model.predict(obs)\n",
    "    print(action)\n",
    "    obs, rewards, dones, info = env.step(action)\n",
    "#     env.render()"
   ]
  },
  {
   "cell_type": "code",
   "execution_count": null,
   "metadata": {},
   "outputs": [],
   "source": []
  },
  {
   "cell_type": "code",
   "execution_count": null,
   "metadata": {},
   "outputs": [],
   "source": []
  },
  {
   "cell_type": "code",
   "execution_count": null,
   "metadata": {},
   "outputs": [],
   "source": []
  },
  {
   "cell_type": "markdown",
   "metadata": {},
   "source": [
    "# Dev Help"
   ]
  },
  {
   "cell_type": "code",
   "execution_count": 66,
   "metadata": {},
   "outputs": [],
   "source": [
    "# check if state is in the observation space"
   ]
  },
  {
   "cell_type": "code",
   "execution_count": 126,
   "metadata": {},
   "outputs": [],
   "source": [
    "env = CardSetFinder()"
   ]
  },
  {
   "cell_type": "code",
   "execution_count": 127,
   "metadata": {},
   "outputs": [
    {
     "data": {
      "text/plain": [
       "Box(0, 10, (2, 3), int64)"
      ]
     },
     "execution_count": 127,
     "metadata": {},
     "output_type": "execute_result"
    }
   ],
   "source": [
    "env.observation_space"
   ]
  },
  {
   "cell_type": "code",
   "execution_count": 131,
   "metadata": {},
   "outputs": [],
   "source": [
    "test = np.array([[3,2,1],[1,2,0]])\n",
    "test2 = np.array([[3,2,2],[1,2,0]])"
   ]
  },
  {
   "cell_type": "code",
   "execution_count": 130,
   "metadata": {},
   "outputs": [
    {
     "data": {
      "text/plain": [
       "True"
      ]
     },
     "execution_count": 130,
     "metadata": {},
     "output_type": "execute_result"
    }
   ],
   "source": [
    "env.observation_space.contains(test)"
   ]
  },
  {
   "cell_type": "code",
   "execution_count": 132,
   "metadata": {},
   "outputs": [
    {
     "data": {
      "text/plain": [
       "False"
      ]
     },
     "execution_count": 132,
     "metadata": {},
     "output_type": "execute_result"
    }
   ],
   "source": [
    "env.observation_space.contains(test2)"
   ]
  },
  {
   "cell_type": "code",
   "execution_count": 133,
   "metadata": {},
   "outputs": [
    {
     "data": {
      "text/plain": [
       "True"
      ]
     },
     "execution_count": 133,
     "metadata": {},
     "output_type": "execute_result"
    }
   ],
   "source": [
    "env.observation_space.contains(env.state)"
   ]
  },
  {
   "cell_type": "code",
   "execution_count": null,
   "metadata": {},
   "outputs": [],
   "source": []
  },
  {
   "cell_type": "code",
   "execution_count": 1,
   "metadata": {},
   "outputs": [],
   "source": []
  },
  {
   "cell_type": "code",
   "execution_count": null,
   "metadata": {},
   "outputs": [],
   "source": []
  }
 ],
 "metadata": {
  "kernelspec": {
   "display_name": "Python 3",
   "language": "python",
   "name": "python3"
  },
  "language_info": {
   "codemirror_mode": {
    "name": "ipython",
    "version": 3
   },
   "file_extension": ".py",
   "mimetype": "text/x-python",
   "name": "python",
   "nbconvert_exporter": "python",
   "pygments_lexer": "ipython3",
   "version": "3.7.4"
  },
  "toc": {
   "base_numbering": 1,
   "nav_menu": {},
   "number_sections": true,
   "sideBar": true,
   "skip_h1_title": false,
   "title_cell": "Table of Contents",
   "title_sidebar": "Contents",
   "toc_cell": false,
   "toc_position": {},
   "toc_section_display": true,
   "toc_window_display": false
  },
  "varInspector": {
   "cols": {
    "lenName": 16,
    "lenType": 16,
    "lenVar": 40
   },
   "kernels_config": {
    "python": {
     "delete_cmd_postfix": "",
     "delete_cmd_prefix": "del ",
     "library": "var_list.py",
     "varRefreshCmd": "print(var_dic_list())"
    },
    "r": {
     "delete_cmd_postfix": ") ",
     "delete_cmd_prefix": "rm(",
     "library": "var_list.r",
     "varRefreshCmd": "cat(var_dic_list()) "
    }
   },
   "types_to_exclude": [
    "module",
    "function",
    "builtin_function_or_method",
    "instance",
    "_Feature"
   ],
   "window_display": false
  }
 },
 "nbformat": 4,
 "nbformat_minor": 2
}
