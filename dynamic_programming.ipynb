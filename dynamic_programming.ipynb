{
 "cells": [
  {
   "cell_type": "markdown",
   "metadata": {},
   "source": [
    "Trying to solve the problem with dynamic programming. "
   ]
  },
  {
   "cell_type": "code",
   "execution_count": 1,
   "metadata": {},
   "outputs": [],
   "source": [
    "import numpy as np\n",
    "import itertools"
   ]
  },
  {
   "cell_type": "code",
   "execution_count": 2,
   "metadata": {},
   "outputs": [],
   "source": [
    "cardset_tot = [10,10,10]\n",
    "cardset_goal = [3,3,3]\n",
    "hand_limit = 5"
   ]
  },
  {
   "cell_type": "code",
   "execution_count": 3,
   "metadata": {},
   "outputs": [],
   "source": [
    "# create states\n",
    "# states is a list of numpy arrays, the individual states\n",
    "# each state is cardset_goal * 3 long, and in order, they show: \n",
    "# number of corresponding card left in deck (int)\n",
    "# number of corresponding card in hand (int)\n",
    "# whether the set is already won or not (boolean)"
   ]
  },
  {
   "cell_type": "code",
   "execution_count": 4,
   "metadata": {},
   "outputs": [],
   "source": [
    "# loop through these, and check, delete where not valid\n",
    "number_of_sets = len(cardset_tot)\n",
    "\n",
    "lists = []\n",
    "\n",
    "for i in range(0, number_of_sets):\n",
    "    lists.append(list(range(0, cardset_tot[i] + 1)))\n",
    "    lists.append(list(range(0, hand_limit + 1)))\n",
    "    lists.append(list(range(0,2)))"
   ]
  },
  {
   "cell_type": "code",
   "execution_count": 5,
   "metadata": {},
   "outputs": [],
   "source": [
    "states = itertools.product(*lists)"
   ]
  },
  {
   "cell_type": "code",
   "execution_count": 6,
   "metadata": {},
   "outputs": [],
   "source": [
    "def state_valid(state):\n",
    "\n",
    "    # checks a number of rules that make it nonvalid\n",
    "    \n",
    "    # rule 1: sum of cards in hand not more than hand limit\n",
    "    hand_size = 0\n",
    "    for i in range(0, number_of_sets):\n",
    "        hand_size += state[3 * i + 1]\n",
    "    if hand_size > hand_limit:\n",
    "        return False\n",
    "    \n",
    "    # rule 2: are there enough cards gone from deck to be enough for whatever is in hand\n",
    "    for i in range(0, number_of_sets):\n",
    "        if state[3*i] > cardset_tot[i] - state[3*i + 1]:\n",
    "            return False\n",
    "        \n",
    "    # rule 3: can only have won a set if there are enough missing from hand and deck\n",
    "    for i in range(0, number_of_sets):\n",
    "        if state[3 * i + 2] == 1:\n",
    "            if cardset_tot[i] - state[3 * i] - state[3 * i + 1] < cardset_goal[i]:\n",
    "                return False\n",
    "        \n",
    "    # if did not stop at any of the previous rules, the state is valid\n",
    "    return True"
   ]
  },
  {
   "cell_type": "code",
   "execution_count": 7,
   "metadata": {},
   "outputs": [],
   "source": [
    "# arrange states into valid and nonvalid states\n",
    "states_valid = []\n",
    "\n",
    "for state in states:\n",
    "    if state_valid(state):\n",
    "        states_valid.append(state)     "
   ]
  },
  {
   "cell_type": "code",
   "execution_count": 8,
   "metadata": {},
   "outputs": [
    {
     "data": {
      "text/plain": [
       "245028"
      ]
     },
     "execution_count": 8,
     "metadata": {},
     "output_type": "execute_result"
    }
   ],
   "source": [
    "len(states_valid)"
   ]
  },
  {
   "cell_type": "code",
   "execution_count": 11,
   "metadata": {},
   "outputs": [],
   "source": [
    "# create a state_value dictionary, where the keys are the states, values are "
   ]
  },
  {
   "cell_type": "code",
   "execution_count": 10,
   "metadata": {},
   "outputs": [],
   "source": [
    "def state_won(state):\n",
    "    for i in range(0, number_of_sets):\n",
    "        if state[3 * i + 2] == 0:\n",
    "            return False\n",
    "    return True"
   ]
  },
  {
   "cell_type": "code",
   "execution_count": 11,
   "metadata": {},
   "outputs": [],
   "source": [
    "# need to define the actions\n",
    "\n",
    "# action is an integer\n",
    "\n",
    "# 0: always the same, draw a card from the deck into hand\n",
    "# in sets of 2: discard a certain type of card from hand, or complete a set\n",
    "# 1: discard a card from set 1\n",
    "# 2: cash in set 1 group\n",
    "# 3: discard a card from set 2\n",
    "# ..."
   ]
  },
  {
   "cell_type": "code",
   "execution_count": 12,
   "metadata": {},
   "outputs": [],
   "source": [
    "actions = list(range(0,2*number_of_sets + 1))"
   ]
  },
  {
   "cell_type": "code",
   "execution_count": 13,
   "metadata": {},
   "outputs": [],
   "source": [
    "def get_new_state(state, action):\n",
    "    # returns the next state depending on the action taken from current state\n",
    "    # assumes that action is valid\n",
    "    # return is actually a dictionary with states as keys and probabilities as values\n",
    "    \n",
    "    new_states = {}\n",
    "    \n",
    "    if action == 0:\n",
    "        # if we draw a new card, decrease one of the sets in deck, increase corresponding hand\n",
    "        \n",
    "        # calculate the probs of drawing that particular card from the deck\n",
    "        deck_size = 0\n",
    "        for i in range(0, number_of_sets):\n",
    "            deck_size += state[3 * i]\n",
    "        probs = []\n",
    "        for i in range(0, number_of_sets):\n",
    "            prob = state[3 * i] / deck_size\n",
    "            probs.append(prob)\n",
    "            \n",
    "        for i in range(0, number_of_sets):\n",
    "            if probs[i] > 0:\n",
    "                new_state = state.copy()\n",
    "                new_state[i * 3] -= 1\n",
    "                new_state[i * 3 + 1] += 1\n",
    "                new_states[tuple(new_state)] = probs[i]\n",
    "            \n",
    "    elif action % 2 == 1:\n",
    "        # we are discarding a card from hand, deterministic change\n",
    "        impacted_set = action // 2\n",
    "        new_state = state.copy()\n",
    "        new_state[impacted_set * 3 + 1] -= 1\n",
    "        new_states[tuple(new_state)] = 1\n",
    "        \n",
    "    elif action % 2 == 0:\n",
    "        # we are doing a set, once again, deterministic change\n",
    "        impacted_set = action // 2 - 1\n",
    "        new_state = state.copy()\n",
    "        new_state[impacted_set * 3 + 2] = 1\n",
    "        new_state[impacted_set * 3 + 1] -= cardset_goal[impacted_set]\n",
    "        new_states[tuple(new_state)] = 1\n",
    "\n",
    "    return new_states\n",
    "        "
   ]
  },
  {
   "cell_type": "code",
   "execution_count": 14,
   "metadata": {},
   "outputs": [],
   "source": [
    "def get_valid_actions(state):\n",
    "    \n",
    "    actions = []\n",
    "\n",
    "    # if hand size less than hand limit, AND there are cards in the deck, drawing new card is an option\n",
    "    hand_size = 0\n",
    "    deck_size = 0\n",
    "    for i in range(0, number_of_sets):\n",
    "        hand_size += state[3 * i + 1]\n",
    "        deck_size += state[3 * i]\n",
    "    if hand_size < hand_limit and deck_size > 0:\n",
    "        actions.append(0)\n",
    "        \n",
    "    # for each set, check if discarding that card or cashing in a set is an option\n",
    "    for i in range(0, number_of_sets):\n",
    "        # if hand has at least one, can discard\n",
    "        if state[3*i + 1]>0:\n",
    "            actions.append(2*i + 1)\n",
    "        # if hand has at least as many as the goal, AND the corresponding set is not yet won, can cash in the set\n",
    "        if state[3*i + 1] >= cardset_goal[i] and state[3 * i + 2] == 0:\n",
    "            actions.append(2*i + 2)\n",
    "            \n",
    "    return actions"
   ]
  },
  {
   "cell_type": "code",
   "execution_count": 17,
   "metadata": {},
   "outputs": [],
   "source": [
    "# reset state values to opening\n",
    "state_values = {}\n",
    "\n",
    "for state in states_valid:\n",
    "    if state_won(state):\n",
    "        state_values[state] = 1\n",
    "    else:\n",
    "        state_values[state] = 0\n",
    "        "
   ]
  },
  {
   "cell_type": "code",
   "execution_count": 19,
   "metadata": {},
   "outputs": [
    {
     "name": "stdout",
     "output_type": "stream",
     "text": [
      "1\n",
      "2\n",
      "3\n",
      "4\n",
      "5\n",
      "6\n",
      "7\n",
      "8\n",
      "9\n",
      "10\n",
      "11\n",
      "12\n",
      "13\n",
      "14\n",
      "15\n",
      "16\n",
      "17\n",
      "18\n",
      "19\n",
      "20\n",
      "21\n",
      "22\n",
      "23\n",
      "24\n",
      "25\n",
      "26\n",
      "27\n",
      "28\n",
      "29\n",
      "30\n",
      "31\n",
      "32\n",
      "33\n",
      "34\n",
      "35\n",
      "36\n",
      "37\n",
      "38\n",
      "39\n",
      "40\n",
      "41\n",
      "42\n",
      "43\n",
      "44\n",
      "45\n",
      "46\n",
      "47\n",
      "48\n",
      "49\n",
      "50\n",
      "51\n",
      "52\n",
      "53\n",
      "54\n",
      "55\n",
      "56\n",
      "57\n",
      "58\n",
      "59\n",
      "60\n",
      "61\n",
      "62\n",
      "63\n"
     ]
    }
   ],
   "source": [
    "run = 1\n",
    "\n",
    "while run <= 63: \n",
    "    \n",
    "    print(run)\n",
    "    \n",
    "    run +=1\n",
    "\n",
    "    old_state_values = state_values.copy()\n",
    "\n",
    "    for state in states_valid:\n",
    "\n",
    "        # 1) determine which actions are valid    \n",
    "        actions = np.array(get_valid_actions(state))\n",
    "\n",
    "        # 2) calculate action value for each action\n",
    "        actions_values = []\n",
    "        for action in actions: \n",
    "            new_states = get_new_state(list(state), action)\n",
    "            action_value = 0\n",
    "            for new_state in new_states.keys():\n",
    "                action_value += old_state_values[new_state] * new_states[new_state]\n",
    "            actions_values.append(action_value)\n",
    "        actions_values = np.array(actions_values)\n",
    "\n",
    "        # the new value of the state is the value of the action with the highest value\n",
    "        # only if the state has actions of course\n",
    "        if actions_values.size > 0:\n",
    "            state_values[tuple(state)] = np.max(actions_values)"
   ]
  },
  {
   "cell_type": "code",
   "execution_count": 20,
   "metadata": {},
   "outputs": [
    {
     "data": {
      "text/plain": [
       "0.9999999875481822"
      ]
     },
     "execution_count": 20,
     "metadata": {},
     "output_type": "execute_result"
    }
   ],
   "source": [
    "state_values[tuple([10,0,0,10,0,0,10,0,0])]"
   ]
  },
  {
   "cell_type": "code",
   "execution_count": 21,
   "metadata": {},
   "outputs": [
    {
     "data": {
      "text/plain": [
       "1.0"
      ]
     },
     "execution_count": 21,
     "metadata": {},
     "output_type": "execute_result"
    }
   ],
   "source": [
    "state_values[tuple([1,2,0,3,0,0,0,0,1])]"
   ]
  },
  {
   "cell_type": "code",
   "execution_count": 297,
   "metadata": {},
   "outputs": [
    {
     "data": {
      "text/plain": [
       "1.0"
      ]
     },
     "execution_count": 297,
     "metadata": {},
     "output_type": "execute_result"
    }
   ],
   "source": [
    "state_values[tuple([10,0,0,0,0,1])]"
   ]
  },
  {
   "cell_type": "code",
   "execution_count": 298,
   "metadata": {},
   "outputs": [
    {
     "data": {
      "text/plain": [
       "0.0"
      ]
     },
     "execution_count": 298,
     "metadata": {},
     "output_type": "execute_result"
    }
   ],
   "source": [
    "state_values[tuple([4,0,0,0,0,1])]"
   ]
  },
  {
   "cell_type": "code",
   "execution_count": 299,
   "metadata": {},
   "outputs": [
    {
     "data": {
      "text/plain": [
       "0.16666666666666666"
      ]
     },
     "execution_count": 299,
     "metadata": {},
     "output_type": "execute_result"
    }
   ],
   "source": [
    "state_values[tuple([1,4,0,5,0,0])]"
   ]
  },
  {
   "cell_type": "code",
   "execution_count": null,
   "metadata": {},
   "outputs": [],
   "source": []
  },
  {
   "cell_type": "code",
   "execution_count": 192,
   "metadata": {},
   "outputs": [],
   "source": [
    "# TEST"
   ]
  },
  {
   "cell_type": "code",
   "execution_count": 208,
   "metadata": {},
   "outputs": [],
   "source": [
    "curr_state = [0, 0, 0, 1, 0, 0]"
   ]
  },
  {
   "cell_type": "code",
   "execution_count": 209,
   "metadata": {},
   "outputs": [],
   "source": [
    "actions = np.array(get_valid_actions(curr_state))"
   ]
  },
  {
   "cell_type": "code",
   "execution_count": 210,
   "metadata": {},
   "outputs": [
    {
     "data": {
      "text/plain": [
       "array([0])"
      ]
     },
     "execution_count": 210,
     "metadata": {},
     "output_type": "execute_result"
    }
   ],
   "source": [
    "actions"
   ]
  },
  {
   "cell_type": "code",
   "execution_count": 211,
   "metadata": {},
   "outputs": [
    {
     "data": {
      "text/plain": [
       "{(-1, 1, 0, 1, 0, 0): 0.0, (0, 0, 0, 0, 1, 0): 1.0}"
      ]
     },
     "execution_count": 211,
     "metadata": {},
     "output_type": "execute_result"
    }
   ],
   "source": [
    "get_new_state(list(curr_state), 0)"
   ]
  },
  {
   "cell_type": "code",
   "execution_count": 115,
   "metadata": {},
   "outputs": [],
   "source": [
    "actions_values = []\n",
    "for action in actions:\n",
    "    new_states = new_state(list(curr_state), action)\n",
    "    action_value = 0\n",
    "    for state in new_states.keys():\n",
    "        action_value += old_state_values[tuple(state)] * new_states[tuple(state)]\n",
    "    actions_values.append(action_value)\n",
    "actions_values = np.array(actions_values)\n"
   ]
  },
  {
   "cell_type": "code",
   "execution_count": 116,
   "metadata": {},
   "outputs": [
    {
     "data": {
      "text/plain": [
       "array([0, 0])"
      ]
     },
     "execution_count": 116,
     "metadata": {},
     "output_type": "execute_result"
    }
   ],
   "source": [
    "actions_values"
   ]
  },
  {
   "cell_type": "code",
   "execution_count": 102,
   "metadata": {},
   "outputs": [
    {
     "data": {
      "text/plain": [
       "0"
      ]
     },
     "execution_count": 102,
     "metadata": {},
     "output_type": "execute_result"
    }
   ],
   "source": [
    "state_values[tuple(curr_state)]"
   ]
  },
  {
   "cell_type": "code",
   "execution_count": 103,
   "metadata": {},
   "outputs": [
    {
     "data": {
      "text/plain": [
       "1"
      ]
     },
     "execution_count": 103,
     "metadata": {},
     "output_type": "execute_result"
    }
   ],
   "source": [
    "np.max(actions_values)"
   ]
  },
  {
   "cell_type": "code",
   "execution_count": null,
   "metadata": {},
   "outputs": [],
   "source": []
  }
 ],
 "metadata": {
  "kernelspec": {
   "display_name": "Python 3",
   "language": "python",
   "name": "python3"
  },
  "language_info": {
   "codemirror_mode": {
    "name": "ipython",
    "version": 3
   },
   "file_extension": ".py",
   "mimetype": "text/x-python",
   "name": "python",
   "nbconvert_exporter": "python",
   "pygments_lexer": "ipython3",
   "version": "3.7.4"
  },
  "toc": {
   "base_numbering": 1,
   "nav_menu": {},
   "number_sections": true,
   "sideBar": true,
   "skip_h1_title": false,
   "title_cell": "Table of Contents",
   "title_sidebar": "Contents",
   "toc_cell": false,
   "toc_position": {},
   "toc_section_display": true,
   "toc_window_display": false
  },
  "varInspector": {
   "cols": {
    "lenName": 16,
    "lenType": 16,
    "lenVar": 40
   },
   "kernels_config": {
    "python": {
     "delete_cmd_postfix": "",
     "delete_cmd_prefix": "del ",
     "library": "var_list.py",
     "varRefreshCmd": "print(var_dic_list())"
    },
    "r": {
     "delete_cmd_postfix": ") ",
     "delete_cmd_prefix": "rm(",
     "library": "var_list.r",
     "varRefreshCmd": "cat(var_dic_list()) "
    }
   },
   "types_to_exclude": [
    "module",
    "function",
    "builtin_function_or_method",
    "instance",
    "_Feature"
   ],
   "window_display": false
  }
 },
 "nbformat": 4,
 "nbformat_minor": 2
}
