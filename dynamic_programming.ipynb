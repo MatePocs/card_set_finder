{
 "cells": [
  {
   "cell_type": "markdown",
   "metadata": {},
   "source": [
    "Trying to solve the problem with dynamic programming. "
   ]
  },
  {
   "cell_type": "code",
   "execution_count": 132,
   "metadata": {},
   "outputs": [],
   "source": [
    "import numpy as np\n",
    "import itertools"
   ]
  },
  {
   "cell_type": "code",
   "execution_count": 133,
   "metadata": {},
   "outputs": [],
   "source": [
    "cardset_tot = [10,10]\n",
    "cardset_goal = [5,5]\n",
    "hand_limit = 5\n",
    "\n",
    "reward_for_set = 3\n",
    "reward_for_invalid_action = -5\n",
    "reward_for_win = 10\n",
    "reward_for_lose = -10"
   ]
  },
  {
   "cell_type": "code",
   "execution_count": 134,
   "metadata": {},
   "outputs": [],
   "source": [
    "# create states\n",
    "# states is a list of numpy arrays, the individual states\n",
    "# each state is cardset_goal * 3 long, and in order, they show: \n",
    "# number of corresponding card left in deck (int)\n",
    "# number of corresponding card in hand (int)\n",
    "# whether the set is already won or not (boolean)"
   ]
  },
  {
   "cell_type": "code",
   "execution_count": 135,
   "metadata": {},
   "outputs": [],
   "source": [
    "# loop through these, and check, delete where not valid\n",
    "number_of_sets = len(cardset_tot)\n",
    "\n",
    "lists = []\n",
    "\n",
    "for i in range(0, number_of_sets):\n",
    "    lists.append(list(range(0, cardset_tot[i] + 1)))\n",
    "    lists.append(list(range(0, hand_limit + 1)))\n",
    "    lists.append(list(range(0,2)))"
   ]
  },
  {
   "cell_type": "code",
   "execution_count": 136,
   "metadata": {},
   "outputs": [],
   "source": [
    "states = itertools.product(*lists)"
   ]
  },
  {
   "cell_type": "code",
   "execution_count": 137,
   "metadata": {},
   "outputs": [],
   "source": [
    "def state_valid(state):\n",
    "\n",
    "    # checks a number of rules that make it nonvalid\n",
    "    \n",
    "    # rule 1: sum of cards in hand not more than hand limit\n",
    "    hand_size = 0\n",
    "    for i in range(0, number_of_sets):\n",
    "        hand_size += state[3 * i + 1]\n",
    "    if hand_size > hand_limit:\n",
    "        return False\n",
    "    \n",
    "    # rule 2: are there enough cards gone from deck to be enough for whatever is in hand\n",
    "    for i in range(0, number_of_sets):\n",
    "        if state[3*i] > cardset_tot[i] - state[3*i + 1]:\n",
    "            return False\n",
    "        \n",
    "    # rule 3: can only have won a set if there are enough missing from hand and deck\n",
    "    for i in range(0, number_of_sets):\n",
    "        if state[3 * i + 2] == 1:\n",
    "            if cardset_tot[i] - state[3 * i] - state[3 * i + 1] < cardset_goal[i]:\n",
    "                return False\n",
    "        \n",
    "    # if did not stop at any of the previous rules, the state is valid\n",
    "    return True"
   ]
  },
  {
   "cell_type": "code",
   "execution_count": 138,
   "metadata": {},
   "outputs": [],
   "source": [
    "# arrange states into valid and nonvalid states\n",
    "states_valid = []\n",
    "states_nonvalid = []\n",
    "\n",
    "for state in states:\n",
    "    if state_valid(state):\n",
    "        states_valid.append(state)\n",
    "    else:\n",
    "        states_nonvalid.append(state)\n",
    "        "
   ]
  },
  {
   "cell_type": "code",
   "execution_count": 139,
   "metadata": {},
   "outputs": [
    {
     "data": {
      "text/plain": [
       "3829"
      ]
     },
     "execution_count": 139,
     "metadata": {},
     "output_type": "execute_result"
    }
   ],
   "source": [
    "len(states_valid)"
   ]
  },
  {
   "cell_type": "code",
   "execution_count": 140,
   "metadata": {},
   "outputs": [
    {
     "data": {
      "text/plain": [
       "13595"
      ]
     },
     "execution_count": 140,
     "metadata": {},
     "output_type": "execute_result"
    }
   ],
   "source": [
    "len(states_nonvalid)"
   ]
  },
  {
   "cell_type": "code",
   "execution_count": 141,
   "metadata": {},
   "outputs": [],
   "source": [
    "# create a state_value dictionary, where the keys are the states, values are "
   ]
  },
  {
   "cell_type": "code",
   "execution_count": 145,
   "metadata": {},
   "outputs": [],
   "source": [
    "def state_won(state):\n",
    "    for i in range(0, number_of_sets):\n",
    "        if state[3 * i + 2] == 0:\n",
    "            return False\n",
    "    return True"
   ]
  },
  {
   "cell_type": "code",
   "execution_count": 148,
   "metadata": {},
   "outputs": [],
   "source": [
    "# reset state values to opening\n",
    "state_values = {}\n",
    "\n",
    "for state in states_valid:\n",
    "    if state_won(state):\n",
    "        state_values[state] = 1\n",
    "    else:\n",
    "        state_values[state] = 0\n",
    "        "
   ]
  },
  {
   "cell_type": "code",
   "execution_count": 150,
   "metadata": {},
   "outputs": [],
   "source": [
    "# need to define the actions\n",
    "\n",
    "# action is an integer\n",
    "\n",
    "# 0: always the same, draw a card from the deck into hand\n",
    "# in sets of 2: discard a certain type of card from hand, or complete a set\n",
    "# 1: discard a card from set 1\n",
    "# 2: cash in set 1 group\n",
    "# 3: discard a card from set 2\n",
    "# ..."
   ]
  },
  {
   "cell_type": "code",
   "execution_count": 153,
   "metadata": {},
   "outputs": [],
   "source": [
    "actions = list(range(0,2*number_of_sets + 1))"
   ]
  },
  {
   "cell_type": "code",
   "execution_count": 232,
   "metadata": {},
   "outputs": [],
   "source": [
    "def new_state(state, action):\n",
    "    # returns the next state depending on the action taken from current state\n",
    "    # assumes that action is valid\n",
    "    # return is actually a dictionary with states as keys and probabilities as values\n",
    "    \n",
    "    new_states = {}\n",
    "    \n",
    "    if action == 0:\n",
    "        # if we draw a new card, decrease one of the sets in deck, increase corresponding hand\n",
    "        \n",
    "        # calculate the probs of drawing that particular card from the deck\n",
    "        deck_size = 0\n",
    "        for i in range(0, number_of_sets):\n",
    "            deck_size += state[3 * i]\n",
    "        probs = []\n",
    "        for i in range(0, number_of_sets):\n",
    "            prob = state[3 * i] / deck_size\n",
    "            probs.append(prob)\n",
    "            \n",
    "        for i in range(0, number_of_sets):\n",
    "            new_state = state.copy()\n",
    "            new_state[i * 3] -= 1\n",
    "            new_state[i * 3 + 1] += 1\n",
    "            new_states[tuple(new_state)] = probs[i]\n",
    "            \n",
    "    elif action % 2 == 1:\n",
    "        # we are discarding a card from hand, deterministic change\n",
    "        impacted_set = action // 2\n",
    "        new_state = state.copy()\n",
    "        new_state[impacted_set * 3 + 1] -= 1\n",
    "        new_states[tuple(new_state)] = 1\n",
    "        \n",
    "    elif action % 2 == 0:\n",
    "        # we are doing a set, once again, deterministic change\n",
    "        impacted_set = action // 2 - 1\n",
    "        new_state = state.copy()\n",
    "        new_state[impacted_set * 3 + 2] = 1\n",
    "        new_state[impacted_set * 3 + 1] -= cardset_goal[impacted_set]\n",
    "        new_states[tuple(new_state)] = 1\n",
    "\n",
    "    return new_states\n",
    "        "
   ]
  },
  {
   "cell_type": "code",
   "execution_count": 233,
   "metadata": {},
   "outputs": [],
   "source": [
    "def get_valid_actions(state):\n",
    "    \n",
    "    actions = []\n",
    "\n",
    "    # if hand size less than hand limit, AND there are cards in the deck, drawing new card is an option\n",
    "    hand_size = 0\n",
    "    for i in range(0, number_of_sets):\n",
    "        hand_size += state[3*i + 2]\n",
    "    if hand_size < hand_limit & hand_size > 0:\n",
    "        actions.append(0)\n",
    "        \n",
    "    # for each set, check if discarding that card or cashing in a set is an option\n",
    "    for i in range(0, number_of_sets):\n",
    "        # if hand has at least one, can discard\n",
    "        if state[3*i + 1]>0:\n",
    "            actions.append(2*i + 1)\n",
    "        # if hand has at least as many as the goal, AND the corresponding set is not yet won, can cash in the set\n",
    "        if state[3*i + 1] >= cardset_goal[i] and state[3 * i + 2] == 0:\n",
    "            actions.append(2*i + 2)\n",
    "            \n",
    "    return actions"
   ]
  },
  {
   "cell_type": "code",
   "execution_count": 234,
   "metadata": {},
   "outputs": [],
   "source": [
    "current_state = [0,0,0,0,0,0]"
   ]
  },
  {
   "cell_type": "code",
   "execution_count": 235,
   "metadata": {},
   "outputs": [
    {
     "data": {
      "text/plain": [
       "[]"
      ]
     },
     "execution_count": 235,
     "metadata": {},
     "output_type": "execute_result"
    }
   ],
   "source": [
    "get_valid_actions(current_state)"
   ]
  },
  {
   "cell_type": "code",
   "execution_count": 250,
   "metadata": {},
   "outputs": [
    {
     "ename": "TypeError",
     "evalue": "'list' object is not callable",
     "output_type": "error",
     "traceback": [
      "\u001b[0;31m---------------------------------------------------------------------------\u001b[0m",
      "\u001b[0;31mTypeError\u001b[0m                                 Traceback (most recent call last)",
      "\u001b[0;32m<ipython-input-250-10092fa54a0a>\u001b[0m in \u001b[0;36m<module>\u001b[0;34m\u001b[0m\n\u001b[1;32m      9\u001b[0m     \u001b[0mactions_values\u001b[0m \u001b[0;34m=\u001b[0m \u001b[0;34m[\u001b[0m\u001b[0;34m]\u001b[0m\u001b[0;34m\u001b[0m\u001b[0;34m\u001b[0m\u001b[0m\n\u001b[1;32m     10\u001b[0m     \u001b[0;32mfor\u001b[0m \u001b[0maction\u001b[0m \u001b[0;32min\u001b[0m \u001b[0mactions\u001b[0m\u001b[0;34m:\u001b[0m\u001b[0;34m\u001b[0m\u001b[0;34m\u001b[0m\u001b[0m\n\u001b[0;32m---> 11\u001b[0;31m         \u001b[0mnew_states\u001b[0m \u001b[0;34m=\u001b[0m \u001b[0mnew_state\u001b[0m\u001b[0;34m(\u001b[0m\u001b[0mlist\u001b[0m\u001b[0;34m(\u001b[0m\u001b[0mstate\u001b[0m\u001b[0;34m)\u001b[0m\u001b[0;34m,\u001b[0m \u001b[0maction\u001b[0m\u001b[0;34m)\u001b[0m\u001b[0;34m\u001b[0m\u001b[0;34m\u001b[0m\u001b[0m\n\u001b[0m\u001b[1;32m     12\u001b[0m         \u001b[0maction_value\u001b[0m \u001b[0;34m=\u001b[0m \u001b[0;36m0\u001b[0m\u001b[0;34m\u001b[0m\u001b[0;34m\u001b[0m\u001b[0m\n\u001b[1;32m     13\u001b[0m         \u001b[0;32mfor\u001b[0m \u001b[0mstate\u001b[0m \u001b[0;32min\u001b[0m \u001b[0mnew_states\u001b[0m\u001b[0;34m.\u001b[0m\u001b[0mkeys\u001b[0m\u001b[0;34m(\u001b[0m\u001b[0;34m)\u001b[0m\u001b[0;34m:\u001b[0m\u001b[0;34m\u001b[0m\u001b[0;34m\u001b[0m\u001b[0m\n",
      "\u001b[0;31mTypeError\u001b[0m: 'list' object is not callable"
     ]
    }
   ],
   "source": [
    "old_state_values = state_values.copy()\n",
    "\n",
    "for state in states_valid[0:10]:\n",
    "\n",
    "    # 1) determine which actions are valid    \n",
    "    actions = np.array(get_valid_actions(state))\n",
    "            \n",
    "    # 2) calculate action value for each action\n",
    "    actions_values = []\n",
    "    for action in actions: \n",
    "        new_states = new_state(list(state), action)\n",
    "        action_value = 0\n",
    "        for state in new_states.keys():\n",
    "            action_value += old_state_values[state] * new_states[state]\n",
    "        actions_values.append(action_value)\n",
    "    actions_values = np.array(actions_values)\n",
    "        \n",
    "    # the new value of the state is the value of the action with the highest value\n",
    "            "
   ]
  },
  {
   "cell_type": "code",
   "execution_count": 252,
   "metadata": {},
   "outputs": [],
   "source": [
    "testlist = [0,1,2]"
   ]
  },
  {
   "cell_type": "code",
   "execution_count": null,
   "metadata": {},
   "outputs": [],
   "source": []
  }
 ],
 "metadata": {
  "kernelspec": {
   "display_name": "Python 3",
   "language": "python",
   "name": "python3"
  },
  "language_info": {
   "codemirror_mode": {
    "name": "ipython",
    "version": 3
   },
   "file_extension": ".py",
   "mimetype": "text/x-python",
   "name": "python",
   "nbconvert_exporter": "python",
   "pygments_lexer": "ipython3",
   "version": "3.7.4"
  },
  "toc": {
   "base_numbering": 1,
   "nav_menu": {},
   "number_sections": true,
   "sideBar": true,
   "skip_h1_title": false,
   "title_cell": "Table of Contents",
   "title_sidebar": "Contents",
   "toc_cell": false,
   "toc_position": {},
   "toc_section_display": true,
   "toc_window_display": false
  },
  "varInspector": {
   "cols": {
    "lenName": 16,
    "lenType": 16,
    "lenVar": 40
   },
   "kernels_config": {
    "python": {
     "delete_cmd_postfix": "",
     "delete_cmd_prefix": "del ",
     "library": "var_list.py",
     "varRefreshCmd": "print(var_dic_list())"
    },
    "r": {
     "delete_cmd_postfix": ") ",
     "delete_cmd_prefix": "rm(",
     "library": "var_list.r",
     "varRefreshCmd": "cat(var_dic_list()) "
    }
   },
   "types_to_exclude": [
    "module",
    "function",
    "builtin_function_or_method",
    "instance",
    "_Feature"
   ],
   "window_display": false
  }
 },
 "nbformat": 4,
 "nbformat_minor": 2
}
